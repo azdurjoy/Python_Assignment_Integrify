{
  "nbformat": 4,
  "nbformat_minor": 0,
  "metadata": {
    "colab": {
      "provenance": []
    },
    "kernelspec": {
      "name": "python3",
      "display_name": "Python 3"
    },
    "language_info": {
      "name": "python"
    }
  },
  "cells": [
    {
      "cell_type": "code",
      "source": [
        "# Get the radius value as input and calculate the area of the circle. If the input is numeric, display the result otherwise display any other message.\n",
        "while True:\n",
        "    try:\n",
        "        r = float(input(\"Please Enter the Radius: \"))\n",
        "        break\n",
        "    except ValueError:\n",
        "        print(\"Error: Invalid input. Please enter an integer.\")\n",
        "\n",
        "area = 3.1416 * r ** 2\n",
        "print('Circle Area:%.2f' %area)\n",
        "\n",
        "'''Please Enter the Radius: 6\n",
        "Circle Area:113.10'''"
      ],
      "metadata": {
        "colab": {
          "base_uri": "https://localhost:8080/",
          "height": 71
        },
        "id": "-XcPKqlYm-Yv",
        "outputId": "fa945e0c-f236-46dd-e8b2-f7e2c27f4820"
      },
      "execution_count": null,
      "outputs": [
        {
          "output_type": "stream",
          "name": "stdout",
          "text": [
            "Please Enter the Radius: 2.3\n",
            "Circle Area:16.62\n"
          ]
        },
        {
          "output_type": "execute_result",
          "data": {
            "text/plain": [
              "'Please Enter the Radius: 6\\nCircle Area:113.10'"
            ],
            "application/vnd.google.colaboratory.intrinsic+json": {
              "type": "string"
            }
          },
          "metadata": {},
          "execution_count": 77
        }
      ]
    },
    {
      "cell_type": "code",
      "source": [
        "#If the user enters numeric value then asks user to for either perimeter or area calculation and display accordingly\n",
        "\n",
        "while True:\n",
        "    try:\n",
        "        value = float(input(\"Please Enter the value: \"))\n",
        "        break\n",
        "    except ValueError:\n",
        "        print(\"Error: Invalid input. Please enter an integer.\")\n",
        "\n",
        "options = input(\"Enter 'P' for perimeter or 'A' for area:\")\n",
        "\n",
        "if options == \"P\" or options == \"p\":\n",
        "  perimeter = 4 * value\n",
        "  print('Perimeter is: %.2f' %perimeter)\n",
        "elif options == \"A\" or options == \"a\":\n",
        "  area = value ** 2\n",
        "  print('Area is: %.2f' %area)\n",
        "else:\n",
        "  print(\"Choose right P or A\")\n",
        "\n",
        "'''Please Enter the value: 2.08\n",
        "Enter 'P' for perimeter or 'A' for area:a\n",
        "Area is: 4.33\n",
        "'''\n",
        "'''Please Enter the value: 3.55\n",
        "Enter 'P' for perimeter or 'A' for area:P\n",
        "Perimeter is: 14.20'''"
      ],
      "metadata": {
        "colab": {
          "base_uri": "https://localhost:8080/",
          "height": 89
        },
        "id": "Lu9TNBfIp-oU",
        "outputId": "36cd916f-b42b-4b90-e712-b77064c42281"
      },
      "execution_count": null,
      "outputs": [
        {
          "output_type": "stream",
          "name": "stdout",
          "text": [
            "Please Enter the value: 3.55\n",
            "Enter 'P' for perimeter or 'A' for area:P\n",
            "Perimeter is: 14.20\n"
          ]
        },
        {
          "output_type": "execute_result",
          "data": {
            "text/plain": [
              "\"Please Enter the value: 2.08\\nEnter 'P' for perimeter or 'A' for area:a\\nArea is: 4.33\\n\""
            ],
            "application/vnd.google.colaboratory.intrinsic+json": {
              "type": "string"
            }
          },
          "metadata": {},
          "execution_count": 81
        }
      ]
    },
    {
      "cell_type": "code",
      "source": [
        "#Check if there is a student named 'Maria' in students_profile dictionary. If exists remove 'ML' from her course\n",
        "\n",
        "students_profile={'Duy': ['Python', 'Database', 'ML'], \n",
        "                  'Laxmi': ['Python', 'Database', 'ML'],\n",
        "                  'Antonio': ['Python', 'Database', 'ML'],\n",
        "                  'Maria': ['Python', 'Database', 'ML']}\n",
        "\n",
        "if 'Maria' in students_profile: # Check if Maria is in the dictionary\n",
        "   students_profile['Maria'].remove('ML') # If she is, remove 'ML' from her courses\n",
        "   print(\"Succesfully Deleted ML course\")\n",
        "\n",
        "'''Succesfully Deleted ML course'''"
      ],
      "metadata": {
        "colab": {
          "base_uri": "https://localhost:8080/"
        },
        "id": "yxmXvrN9qlMF",
        "outputId": "279bdf23-783f-4377-9392-778add7f8f5b"
      },
      "execution_count": null,
      "outputs": [
        {
          "output_type": "stream",
          "name": "stdout",
          "text": [
            "Succesfully Deleted ML course\n"
          ]
        }
      ]
    },
    {
      "cell_type": "code",
      "source": [
        "# Take input from user and check if substring is present in the string\n",
        "\n",
        "substring_input = str(input(\"Enter Substring to check: \"))\n",
        "string_input = str(input(\"Enter your string: \"))\n",
        "\n",
        "if substring_input in string_input:\n",
        "  print(f\"'{substring_input}' is in '{string_input}'.\")\n",
        "else:\n",
        "  print(f\"'{substring_input}' is not in '{string_input}'.\")\n",
        "\n",
        "'''Enter Substring to check: hehehhehe\n",
        "Enter your string: hehehhehehehehhehehhe\n",
        "'hehehhehe' is in 'hehehhehehehehhehehhe'.\n",
        "\n",
        "Enter Substring to check: hello\n",
        "Enter your string: world\n",
        "'hello' is not in 'world'.'''"
      ],
      "metadata": {
        "colab": {
          "base_uri": "https://localhost:8080/",
          "height": 89
        },
        "id": "WYk9Org96cbT",
        "outputId": "17bc9320-4d3c-4d95-ee50-95e2b763785c"
      },
      "execution_count": null,
      "outputs": [
        {
          "output_type": "stream",
          "name": "stdout",
          "text": [
            "Enter Substring to check: hello\n",
            "Enter your string: world\n",
            "'hello' is not in 'world'.\n"
          ]
        },
        {
          "output_type": "execute_result",
          "data": {
            "text/plain": [
              "\"Enter Substring to check: hehehhehe\\nEnter your string: hehehhehehehehhehehhe\\n'hehehhehe' is in 'hehehhehehehehhehehhe'.\""
            ],
            "application/vnd.google.colaboratory.intrinsic+json": {
              "type": "string"
            }
          },
          "metadata": {},
          "execution_count": 100
        }
      ]
    },
    {
      "cell_type": "code",
      "source": [
        "point_1 = (1,2,3)\n",
        "point_2 = (4,5,6)\n",
        "\n",
        "while True:       # Define the order & check integer\n",
        "  try:\n",
        "    order = int(input(\"Enter a Integer value: \"))\n",
        "    break\n",
        "  except ValueError:\n",
        "    print(\"Enter a valid Integer Value!!!\")\n",
        "\n",
        "# Calculate the distance based on the order\n",
        "if order == 1:     # L1 norm (Manhattan distance)\n",
        "\n",
        "  distance = sum(abs(p1-p2) for p1, p2 in zip(point_1, point_2)) \n",
        "elif order == 2:     # L2 norm (Euclidean distance)\n",
        "\n",
        "  distance = (sum((p1-p2) ** 2 for p1, p2 in zip(point_1, point_2))) ** 0.5\n",
        "else:      # Generalized distance (Minkowski equation)\n",
        "\n",
        "  distance = (sum(abs(p1-p2)** order for p1, p2 in zip(point_1, point_2))) ** (1/order)\n",
        "\n",
        "\n",
        "print(f\"The distacne between{point_1} and {point_2} for order {order} is : {distance: .2f}\")\n",
        "\n",
        "'''Enter a Integer value: dd\n",
        "Enter a valid Integer Value!!!\n",
        "Enter a Integer value: 33\n",
        "The distacne between(1, 2, 3) and (4, 5, 6) for order 33 is :  3.10'''"
      ],
      "metadata": {
        "colab": {
          "base_uri": "https://localhost:8080/"
        },
        "id": "Z-YD-RUg758u",
        "outputId": "c2c23a64-f203-40e6-d156-bb7d14dec738"
      },
      "execution_count": null,
      "outputs": [
        {
          "output_type": "stream",
          "name": "stdout",
          "text": [
            "Enter a Integer value: dd\n",
            "Enter a valid Integer Value!!!\n",
            "Enter a Integer value: 33\n",
            "The distacne between(1, 2, 3) and (4, 5, 6) for order 33 is :  3.10\n"
          ]
        }
      ]
    },
    {
      "cell_type": "code",
      "source": [
        "#Write a multiplication table for any given number using both for and while loop\n",
        "#Using For loop\n",
        "\n",
        "while True:\n",
        "  try:\n",
        "    Number = int(input(\"Enter a Number: \"))\n",
        "    break\n",
        "  except ValueError:\n",
        "    print(\"Enter a Integer Value\")\n",
        "\n",
        "for i in range(1,11):\n",
        "  product = Number * i\n",
        "  print(Number, \"x\", i, \"=\", product)\n",
        "\n",
        "'''Enter a Number: dd\n",
        "Enter a Integer Value\n",
        "Enter a Number: 22\n",
        "22 x 1 = 22\n",
        "22 x 2 = 44\n",
        "22 x 3 = 66\n",
        "22 x 4 = 88\n",
        "22 x 5 = 110\n",
        "22 x 6 = 132\n",
        "22 x 7 = 154\n",
        "22 x 8 = 176\n",
        "22 x 9 = 198\n",
        "22 x 10 = 220'''"
      ],
      "metadata": {
        "colab": {
          "base_uri": "https://localhost:8080/"
        },
        "id": "3IW2nf5-7b5E",
        "outputId": "46d25468-63b6-4192-a10b-d1ce4079dfdf"
      },
      "execution_count": null,
      "outputs": [
        {
          "output_type": "stream",
          "name": "stdout",
          "text": [
            "Enter a Number: dd\n",
            "Enter a Integer Value\n",
            "Enter a Number: 22\n",
            "22 x 1 = 22\n",
            "22 x 2 = 44\n",
            "22 x 3 = 66\n",
            "22 x 4 = 88\n",
            "22 x 5 = 110\n",
            "22 x 6 = 132\n",
            "22 x 7 = 154\n",
            "22 x 8 = 176\n",
            "22 x 9 = 198\n",
            "22 x 10 = 220\n"
          ]
        }
      ]
    },
    {
      "cell_type": "code",
      "source": [
        "#Write a multiplication table for any given number using both for and while loop\n",
        "#While loop\n",
        "\n",
        "while True:\n",
        "  try:\n",
        "    number = int(input(\"Enter a value: \"))\n",
        "    break\n",
        "  except ValueError:\n",
        "    print(\"Enter a Interger value\")\n",
        "\n",
        "i = 1\n",
        "while i<=10:\n",
        "  print(number, 'x', i, '=', number*i)\n",
        "  i += 1\n",
        "\n",
        "'''Enter a value: 6\n",
        "6 x 1 = 6\n",
        "6 x 2 = 12\n",
        "6 x 3 = 18\n",
        "6 x 4 = 24\n",
        "6 x 5 = 30\n",
        "6 x 6 = 36\n",
        "6 x 7 = 42\n",
        "6 x 8 = 48\n",
        "6 x 9 = 54\n",
        "6 x 10 = 60'''"
      ],
      "metadata": {
        "colab": {
          "base_uri": "https://localhost:8080/"
        },
        "id": "_zJYe8Rj9BB-",
        "outputId": "d3462fe6-e629-4b01-9ba2-856a48b05f4c"
      },
      "execution_count": null,
      "outputs": [
        {
          "output_type": "stream",
          "name": "stdout",
          "text": [
            "Enter a value: 6\n",
            "6 x 1 = 6\n",
            "6 x 2 = 12\n",
            "6 x 3 = 18\n",
            "6 x 4 = 24\n",
            "6 x 5 = 30\n",
            "6 x 6 = 36\n",
            "6 x 7 = 42\n",
            "6 x 8 = 48\n",
            "6 x 9 = 54\n",
            "6 x 10 = 60\n"
          ]
        }
      ]
    },
    {
      "cell_type": "markdown",
      "source": [
        "DNA is coded using 4 nitrogen bases with the symbols A,T,G,C. Given the template string dna_template='AATCCGAAAATTCGGGAATTTTCGCGT' , generate the complementary dna template with the mapping\n",
        "\n",
        "mapper={\"T\":\"A\",\"A\":\"T\",\"G\":\"C\",\"C\":\"G\"}\n",
        "\n"
      ],
      "metadata": {
        "id": "u_hPtUq8NLOd"
      }
    },
    {
      "cell_type": "code",
      "source": [
        "\n",
        "dna_template = 'AATCCGAAAATTCGGGAATTTTCGCGT'\n",
        "mapper = {\"T\":\"A\",\"A\":\"T\",\"G\":\"C\",\"C\":\"G\"}\n",
        "complementary_dna_templete = \"\"\n",
        "\n",
        "for i in dna_template:\n",
        "  complementary_dna_templete += mapper[i]\n",
        "print(complementary_dna_templete)\n",
        "\n",
        "'''TTAGGCTTTTAAGCCCTTAAAAGCGCA\n",
        "'''"
      ],
      "metadata": {
        "colab": {
          "base_uri": "https://localhost:8080/"
        },
        "id": "QR53OuckBC9d",
        "outputId": "4ebb6f94-91ea-4216-ac0f-aae52562453b"
      },
      "execution_count": null,
      "outputs": [
        {
          "output_type": "stream",
          "name": "stdout",
          "text": [
            "TTAGGCTTTTAAGCCCTTAAAAGCGCA\n"
          ]
        }
      ]
    },
    {
      "cell_type": "code",
      "source": [
        "#Fibonacci series\n",
        "x = [0,1]\n",
        "value = int(input(\"Enter the range of number: \"))\n",
        "# Generate the Fibonacci series up to the desired length\n",
        "while len(x) < value:\n",
        "    next_num = x[-1] + x[-2]\n",
        "    x.append(next_num)\n",
        "\n",
        "# Print the Fibonacci series\n",
        "print(x)\n",
        "\n",
        "'''Enter the range of number: 13\n",
        "[0, 1, 1, 2, 3, 5, 8, 13, 21, 34, 55, 89, 144]'''"
      ],
      "metadata": {
        "id": "c3A6g2wqN6R-"
      },
      "execution_count": null,
      "outputs": []
    },
    {
      "cell_type": "code",
      "source": [
        "#Generate a list of n numbers of prime numbers\n",
        "def generate_primes(n):\n",
        "    primes = [2]  # start with the first prime number\n",
        "    num = 3  # start checking for primes from 3\n",
        "    while len(primes) < n:\n",
        "        if all(num % i != 0 for i in range(2, int(num ** 0.5) + 1)):\n",
        "            primes.append(num)\n",
        "        num += 2  # check only odd numbers for efficiency\n",
        "    return primes\n",
        "generate_primes(12)"
      ],
      "metadata": {
        "id": "xtd5-ymGnp2G",
        "colab": {
          "base_uri": "https://localhost:8080/"
        },
        "outputId": "358e9c27-849d-45c9-daf8-209c7e02213b"
      },
      "execution_count": null,
      "outputs": [
        {
          "output_type": "execute_result",
          "data": {
            "text/plain": [
              "[2, 3, 5, 7, 11, 13, 17, 19, 23, 29, 31, 37]"
            ]
          },
          "metadata": {},
          "execution_count": 12
        }
      ]
    },
    {
      "cell_type": "code",
      "source": [
        "import numpy as np\n",
        "\n",
        "data1 = [1,17,12,15,30,60,48,51,89,92,54,8]\n",
        "data2 = [-13,2,-1,7,22,-32,5,15,-9,13,3,-2]\n",
        "\n",
        "# Min-max normalization for data1 in range [0, 1]\n",
        "data1_min = np.min(data1)\n",
        "data1_max = np.max(data1)\n",
        "\n",
        "#X_scaled = (X - X_min) / (X_max - X_min)\n",
        "\n",
        "data1_scaled = [(data1 - data1_min) / (data1_max - data1_min)]\n",
        "\n",
        "print(\"Data1 Min-Max Normalized to [0,1]:\")\n",
        "print(data1_scaled)\n",
        "\n",
        "#minmax normalization to the range [-1,1] for the data2\n",
        "\n",
        "data2_min = np.min(data2)\n",
        "data2_max = np.max(data2)\n",
        "\n",
        "#X_scaled = 2 * (X - X_min) / (X_max - X_min) - 1\n",
        "\n",
        "data2_scaled = [2 * (data2 - data2_min) / (data2_max - data2_min) - 1]\n",
        "\n",
        "print(\"Data2 Min-Max Normalized to [-1,1]:\")\n",
        "print(data2_scaled)\n",
        "\n",
        "'''Data1 Min-Max Normalized to [0,1]:\n",
        "[array([0.        , 0.17582418, 0.12087912, 0.15384615, 0.31868132,\n",
        "       0.64835165, 0.51648352, 0.54945055, 0.96703297, 1.        ,\n",
        "       0.58241758, 0.07692308])]\n",
        "Data2 Min-Max Normalized to [-1,1]:\n",
        "[array([-0.2962963 ,  0.25925926,  0.14814815,  0.44444444,  1.        ,\n",
        "       -1.        ,  0.37037037,  0.74074074, -0.14814815,  0.66666667,\n",
        "        0.2962963 ,  0.11111111])]'''"
      ],
      "metadata": {
        "colab": {
          "base_uri": "https://localhost:8080/"
        },
        "id": "wpGZZ1ONILsm",
        "outputId": "534098e8-8b96-459f-fa28-fe108019c9e7"
      },
      "execution_count": null,
      "outputs": [
        {
          "output_type": "stream",
          "name": "stdout",
          "text": [
            "Data1 Min-Max Normalized to [0,1]:\n",
            "[array([0.        , 0.17582418, 0.12087912, 0.15384615, 0.31868132,\n",
            "       0.64835165, 0.51648352, 0.54945055, 0.96703297, 1.        ,\n",
            "       0.58241758, 0.07692308])]\n",
            "Data2 Min-Max Normalized to [-1,1]:\n",
            "[array([-0.2962963 ,  0.25925926,  0.14814815,  0.44444444,  1.        ,\n",
            "       -1.        ,  0.37037037,  0.74074074, -0.14814815,  0.66666667,\n",
            "        0.2962963 ,  0.11111111])]\n"
          ]
        }
      ]
    },
    {
      "cell_type": "code",
      "source": [
        "##Bubble Sort:\n",
        "def bubble_sort(arr):\n",
        "  n = len(arr)\n",
        "  for i in range(n):\n",
        "    for j in range(0, n-i-1):\n",
        "      if arr[j]>arr[j+i]:\n",
        "        arr[j], arr[j+i] = arr[j+i], arr[j]\n",
        "  return arr\n",
        "#Time Complexity: O(n^2)\n",
        "\n",
        "#selection sort\n",
        "def selection_sort(arr):\n",
        "    n = len(arr)\n",
        "    for i in range(n):\n",
        "        min_idx = i\n",
        "        for j in range(i+1, n):\n",
        "            if arr[j] < arr[min_idx]:\n",
        "                min_idx = j\n",
        "        arr[i], arr[min_idx] = arr[min_idx], arr[i]\n",
        "    return arr\n",
        "#Time Complexity: O(n^2)\n",
        "\n",
        "#insertion sort\n",
        "def insertion_sort(arr):\n",
        "    n = len(arr)\n",
        "    for i in range(1, n):\n",
        "        key = arr[i]\n",
        "        j = i - 1\n",
        "        while j >= 0 and key < arr[j]:\n",
        "            arr[j+1] = arr[j]\n",
        "            j -= 1\n",
        "        arr[j+1] = key\n",
        "    return arr\n",
        "#Time Complexity: O(n^2)\n"
      ],
      "metadata": {
        "id": "1v0zHXe-dWCl"
      },
      "execution_count": null,
      "outputs": []
    },
    {
      "cell_type": "code",
      "source": [
        "\n",
        "def add_num(x, y):\n",
        "    \"\"\"\n",
        "Adds two numbers together and returns the result.\n",
        "\n",
        "    \"\"\" \n",
        "    return x+y\n",
        "\n",
        "\n",
        "print(add_num.__doc__)\n",
        "\n",
        "\n",
        "def square(n):\n",
        "  '''Takes in a number n, returns the square of n'''\n",
        "  return n ** 2\n",
        "\n",
        "\n",
        "print(square.__doc__)\n",
        "\n",
        "\n",
        "'''Adds two numbers together and returns the result.\n",
        "   \n",
        "Takes in a number n, returns the square of n'''"
      ],
      "metadata": {
        "colab": {
          "base_uri": "https://localhost:8080/"
        },
        "id": "uODakDeihKLT",
        "outputId": "ce01ffee-b40d-4000-9a30-351b5aa3e106"
      },
      "execution_count": null,
      "outputs": [
        {
          "output_type": "stream",
          "name": "stdout",
          "text": [
            "\n",
            "Adds two numbers together and returns the result.\n",
            "\n",
            "    \n",
            "Takes in a number n, returns the square of n\n"
          ]
        }
      ]
    },
    {
      "cell_type": "code",
      "source": [
        "#Write a function factorial of a given number\n",
        "\n",
        "def factorial(n):\n",
        "  if n ==0:\n",
        "    return 1\n",
        "  else:\n",
        "    return n * factorial(n-1)\n",
        "\n",
        "factorial(5)\n",
        "\n",
        "'''120'''"
      ],
      "metadata": {
        "colab": {
          "base_uri": "https://localhost:8080/"
        },
        "id": "srjNSfdtnixo",
        "outputId": "d86caabc-a9a4-4656-dd83-46c2beeb3ce5"
      },
      "execution_count": null,
      "outputs": [
        {
          "output_type": "execute_result",
          "data": {
            "text/plain": [
              "120"
            ]
          },
          "metadata": {},
          "execution_count": 1
        }
      ]
    },
    {
      "cell_type": "code",
      "source": [
        "from ast import Raise\n",
        "#Write a function that takes two arguments: activation_function name and value that returns the \n",
        "#output of specific activation_function. \n",
        "#Implement for sigmoid, binary step function, relu, leaky rely, tanh.\n",
        "\n",
        "import math \n",
        "def activation_function(name, value):\n",
        "  if name == 'sigmoid' :\n",
        "    return 1 / (1 + math.exp(-value))\n",
        "  elif name == 'binary step':\n",
        "    return 1 if value>=0 else 0\n",
        "  elif name == 'relu':\n",
        "    return max(0, value)\n",
        "  elif name == 'leaky rely':\n",
        "    return max(0.01 * value, value) \n",
        "  elif name == 'tanh':\n",
        "    return math.tanh(value)\n",
        "  else:\n",
        "    raise ValueError('Invalid activation function name')\n",
        "\n",
        "\n",
        "activation_function('sigmoid', 0)\n",
        "'''0.5'''\n",
        "activation_function('relu', 0)\n",
        "'''0'''"
      ],
      "metadata": {
        "colab": {
          "base_uri": "https://localhost:8080/"
        },
        "id": "PyORMc8O8eAu",
        "outputId": "723fcb35-1ec2-4384-e8f1-fdf88feb0e31"
      },
      "execution_count": null,
      "outputs": [
        {
          "output_type": "execute_result",
          "data": {
            "text/plain": [
              "0"
            ]
          },
          "metadata": {},
          "execution_count": 9
        }
      ]
    },
    {
      "cell_type": "code",
      "source": [
        "#Write a function that returns permutation.\n",
        "from math import factorial\n",
        "\n",
        "def permutation(n, r):\n",
        "  return factorial(n)/ factorial(n-r)\n",
        "\n",
        "\n",
        "permutation(10,3)\n",
        "'''720.0\n",
        "'''"
      ],
      "metadata": {
        "colab": {
          "base_uri": "https://localhost:8080/"
        },
        "id": "dD6gPwICCKXF",
        "outputId": "f89f83e5-7c76-42e0-ad29-5f12834fb65e"
      },
      "execution_count": null,
      "outputs": [
        {
          "output_type": "execute_result",
          "data": {
            "text/plain": [
              "720.0"
            ]
          },
          "metadata": {},
          "execution_count": 10
        }
      ]
    },
    {
      "cell_type": "code",
      "source": [
        "#Local variables\n",
        "def my_function():\n",
        "    x = \"hello\"\n",
        "    print(x)\n",
        "\n",
        "my_function()\n",
        "\n",
        "\n",
        "#enclosing or non local variables \n",
        "def outer_function():\n",
        "    x = \"hello\"\n",
        "    \n",
        "    def inner_function():\n",
        "        print(x)\n",
        "    \n",
        "    inner_function()\n",
        "\n",
        "outer_function()\n",
        "\n",
        "#Global variables \n",
        "x = \"hi\"\n",
        "\n",
        "def my_function():\n",
        "    print(x)\n",
        "\n",
        "my_function()\n",
        "\n",
        "#Build in variables\n",
        "print(\"Hello, world!\")\n"
      ],
      "metadata": {
        "id": "3fZJDMj9L0Ve"
      },
      "execution_count": null,
      "outputs": []
    }
  ]
}