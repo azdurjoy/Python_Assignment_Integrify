{
 "cells": [
  {
   "cell_type": "markdown",
   "id": "a8277d7f",
   "metadata": {},
   "source": [
    "# Using Contructor Method"
   ]
  },
  {
   "cell_type": "code",
   "execution_count": 22,
   "id": "2b283665",
   "metadata": {},
   "outputs": [
    {
     "name": "stdout",
     "output_type": "stream",
     "text": [
      " Integers--> 5 \n",
      " Float--> 6.88 \n",
      " String--> Bangladesh \n",
      " List--> ['Bangladesh', 'China', 'Germany', 'Finland', 'Turkey', 'Algeria'] \n",
      " Tuple--> ('Bangladesh', 'China', 'Germany', 'Finland', 'Turkey', 'Algeria') \n",
      " Dictionary--> {'name': 'Bangladesh', 'age': 51, 'location': 'Asia'} \n",
      " Set--> {'Algeria', 'China', 'Turkey', 'Bangladesh', 'Finland', 'Germany'}\n"
     ]
    }
   ],
   "source": [
    "a = int(5)   #Integer\n",
    "b = float(6.88)   #float\n",
    "c = str(\"Bangladesh\")   #string\n",
    "d = list(('Bangladesh', 'China', 'Germany', 'Finland', 'Turkey', 'Algeria'))  #list\n",
    "e = tuple(('Bangladesh', 'China', 'Germany', 'Finland', 'Turkey', 'Algeria')) #tuple\n",
    "f = dict(name = 'Bangladesh', age = 51, location = 'Asia')   #dictinary\n",
    "g = set(('Bangladesh', 'China', 'Germany', 'Finland', 'Turkey', 'Algeria'))   #set\n",
    "\n",
    "print(' Integers-->',(a),\"\\n\",'Float-->',(b),\"\\n\",'String-->',(c),\"\\n\",'List-->',(d),\"\\n\",'Tuple-->',(e),\"\\n\",'Dictionary-->',(f),\"\\n\",'Set-->',(g))\n"
   ]
  },
  {
   "cell_type": "markdown",
   "id": "626b2eef",
   "metadata": {},
   "source": [
    "# Using Object Literals"
   ]
  },
  {
   "cell_type": "code",
   "execution_count": 21,
   "id": "ff58a29b",
   "metadata": {},
   "outputs": [
    {
     "name": "stdout",
     "output_type": "stream",
     "text": [
      " Integers--> 10 \n",
      " Float--> 10.312 \n",
      " String--> Hello Integrify \n",
      " List--> ['Bangladesh', 'China', 'Germany', 'Finland', 'Turkey', 'Algeria'] \n",
      " Tuple--> ('Bangladesh', 'China', 'Germany', 'Finland', 'Turkey', 'Algeria') \n",
      " Dictionary--> {'name': 'Bangladesh', 'age': 51, 'location': 'Asia'} \n",
      " Set--> {'Algeria', 'Bangladesh', 'Finland', 'China', 'Turkey', 'Germany'}\n"
     ]
    }
   ],
   "source": [
    "aa = 10 #Integers\n",
    "bb = 10.312 #Float\n",
    "cc = \"Hello Integrify\"  #String\n",
    "dd = ['Bangladesh', 'China', 'Germany', 'Finland', 'Turkey', 'Algeria']  #list\n",
    "ee = ('Bangladesh', 'China', 'Germany', 'Finland', 'Turkey', 'Algeria')  #tuple\n",
    "ff = {'name': 'Bangladesh', 'age': 51, 'location': 'Asia'}   #dictionary\n",
    "gg = {'Bangladesh', 'China', 'Germany', 'Finland', 'Turkey', 'Algeria'}  #Set\n",
    "\n",
    "print(' Integers-->',(aa),\"\\n\",'Float-->',(bb),\"\\n\",'String-->',(cc),\"\\n\",'List-->',(dd),\"\\n\",'Tuple-->',(ee),\"\\n\",'Dictionary-->',(ff),\"\\n\",'Set-->',(gg))\n",
    "\n",
    "\n"
   ]
  },
  {
   "cell_type": "markdown",
   "id": "8ce82f05",
   "metadata": {},
   "source": [
    "# Operators in python"
   ]
  },
  {
   "cell_type": "code",
   "execution_count": 23,
   "id": "46d31db9",
   "metadata": {},
   "outputs": [
    {
     "name": "stdout",
     "output_type": "stream",
     "text": [
      "115\n",
      "85\n",
      "1500\n",
      "6.666666666666667\n",
      "10\n",
      "1000000000000000000000000000000\n",
      "6\n",
      "False\n",
      "True\n",
      "True\n",
      "False\n",
      "True\n",
      "False\n",
      "True\n",
      "True\n",
      "False\n",
      "False\n",
      "115\n",
      "100\n",
      "1500\n",
      "100.0\n",
      "10.0\n",
      "1000000000000000.0\n",
      "66666666666666.0\n",
      "False\n",
      "True\n",
      "True\n",
      "False\n",
      "True\n"
     ]
    }
   ],
   "source": [
    "a = 100\n",
    "b = 15\n",
    "\n",
    "#All Arithmetic operators\n",
    "\n",
    "print(a+b) #Addition\n",
    "print(a-b) #Subtraction\n",
    "print(a*b) #Multiplication\n",
    "print(a/b) #Division\n",
    "print(a%b) #Modulus\n",
    "print(a**b) #Exponentiation\n",
    "print(a//b) #Floor Division\n",
    "\n",
    "\n",
    "#All comparison operators\n",
    "\n",
    "print(a==b) #Equal\n",
    "print(a!=b) #Not Equal\n",
    "print(a>b) #a is Greater than b\n",
    "print(a<b) #a is less than b\n",
    "print(a>=b) #a is greater than or equal b\n",
    "print(a<=b) #a is less than or equal b\n",
    "\n",
    "\n",
    "#All logical operators\n",
    "\n",
    "\n",
    "print(a>50 and b <30) #Logical And\n",
    "print(a<200 or b>10) #Logical Or\n",
    "print(not(a>50 and b <30)) #Logical Not\n",
    "print(not(a<200 or b>10)) #Logical Not\n",
    "\n",
    "\n",
    "#All assignment operators\n",
    "\n",
    "a +=b #Add and\n",
    "print(a) \n",
    "a-=b #Subtract and\n",
    "print(a)\n",
    "a*=b #Multiply and \n",
    "print(a)\n",
    "a/=b #Divide and\n",
    "print(a)\n",
    "a%=b #Modulus and \n",
    "print(a)\n",
    "a**=b #Exponentiation and\n",
    "print(a)\n",
    "a//=b #Floor division and \n",
    "print(a)\n",
    "\n",
    "\n",
    "#All identity Operators\n",
    "\n",
    "print(a is b)  #Is\n",
    "print(a is not b)  #Is Not\n",
    "\n",
    "\n",
    "#All Membership Operators\n",
    "\n",
    "list1 = [1,3,5,7,9,0]\n",
    "print(0 in list1) #IN\n",
    "print(2 in list1) #IN\n",
    "print(2 not in list1) #Not IN\n",
    "\n",
    "\n",
    "\n",
    "\n"
   ]
  },
  {
   "cell_type": "code",
   "execution_count": 24,
   "id": "ff62f8af",
   "metadata": {},
   "outputs": [
    {
     "name": "stdout",
     "output_type": "stream",
     "text": [
      "['__abs__', '__add__', '__and__', '__bool__', '__ceil__', '__class__', '__delattr__', '__dir__', '__divmod__', '__doc__', '__eq__', '__float__', '__floor__', '__floordiv__', '__format__', '__ge__', '__getattribute__', '__getnewargs__', '__gt__', '__hash__', '__index__', '__init__', '__init_subclass__', '__int__', '__invert__', '__le__', '__lshift__', '__lt__', '__mod__', '__mul__', '__ne__', '__neg__', '__new__', '__or__', '__pos__', '__pow__', '__radd__', '__rand__', '__rdivmod__', '__reduce__', '__reduce_ex__', '__repr__', '__rfloordiv__', '__rlshift__', '__rmod__', '__rmul__', '__ror__', '__round__', '__rpow__', '__rrshift__', '__rshift__', '__rsub__', '__rtruediv__', '__rxor__', '__setattr__', '__sizeof__', '__str__', '__sub__', '__subclasshook__', '__truediv__', '__trunc__', '__xor__', 'as_integer_ratio', 'bit_length', 'conjugate', 'denominator', 'from_bytes', 'imag', 'numerator', 'real', 'to_bytes']\n",
      "15\n",
      "<class 'int'>\n",
      "True\n",
      "['__abs__', '__add__', '__bool__', '__ceil__', '__class__', '__delattr__', '__dir__', '__divmod__', '__doc__', '__eq__', '__float__', '__floor__', '__floordiv__', '__format__', '__ge__', '__getattribute__', '__getformat__', '__getnewargs__', '__gt__', '__hash__', '__init__', '__init_subclass__', '__int__', '__le__', '__lt__', '__mod__', '__mul__', '__ne__', '__neg__', '__new__', '__pos__', '__pow__', '__radd__', '__rdivmod__', '__reduce__', '__reduce_ex__', '__repr__', '__rfloordiv__', '__rmod__', '__rmul__', '__round__', '__rpow__', '__rsub__', '__rtruediv__', '__setattr__', '__setformat__', '__sizeof__', '__str__', '__sub__', '__subclasshook__', '__truediv__', '__trunc__', 'as_integer_ratio', 'conjugate', 'fromhex', 'hex', 'imag', 'is_integer', 'real']\n",
      "20.320999999999998\n",
      "<class 'float'>\n",
      "True\n",
      "['__add__', '__class__', '__contains__', '__delattr__', '__dir__', '__doc__', '__eq__', '__format__', '__ge__', '__getattribute__', '__getitem__', '__getnewargs__', '__gt__', '__hash__', '__init__', '__init_subclass__', '__iter__', '__le__', '__len__', '__lt__', '__mod__', '__mul__', '__ne__', '__new__', '__reduce__', '__reduce_ex__', '__repr__', '__rmod__', '__rmul__', '__setattr__', '__sizeof__', '__str__', '__subclasshook__', 'capitalize', 'casefold', 'center', 'count', 'encode', 'endswith', 'expandtabs', 'find', 'format', 'format_map', 'index', 'isalnum', 'isalpha', 'isascii', 'isdecimal', 'isdigit', 'isidentifier', 'islower', 'isnumeric', 'isprintable', 'isspace', 'istitle', 'isupper', 'join', 'ljust', 'lower', 'lstrip', 'maketrans', 'partition', 'removeprefix', 'removesuffix', 'replace', 'rfind', 'rindex', 'rjust', 'rpartition', 'rsplit', 'rstrip', 'split', 'splitlines', 'startswith', 'strip', 'swapcase', 'title', 'translate', 'upper', 'zfill']\n",
      "HELLO INTEGRIFY\n",
      "<class 'str'>\n",
      "True\n",
      "['__add__', '__class__', '__class_getitem__', '__contains__', '__delattr__', '__delitem__', '__dir__', '__doc__', '__eq__', '__format__', '__ge__', '__getattribute__', '__getitem__', '__gt__', '__hash__', '__iadd__', '__imul__', '__init__', '__init_subclass__', '__iter__', '__le__', '__len__', '__lt__', '__mul__', '__ne__', '__new__', '__reduce__', '__reduce_ex__', '__repr__', '__reversed__', '__rmul__', '__setattr__', '__setitem__', '__sizeof__', '__str__', '__subclasshook__', 'append', 'clear', 'copy', 'count', 'extend', 'index', 'insert', 'pop', 'remove', 'reverse', 'sort']\n",
      "None\n",
      "<class 'list'>\n",
      "True\n",
      "['__add__', '__class__', '__class_getitem__', '__contains__', '__delattr__', '__dir__', '__doc__', '__eq__', '__format__', '__ge__', '__getattribute__', '__getitem__', '__getnewargs__', '__gt__', '__hash__', '__init__', '__init_subclass__', '__iter__', '__le__', '__len__', '__lt__', '__mul__', '__ne__', '__new__', '__reduce__', '__reduce_ex__', '__repr__', '__rmul__', '__setattr__', '__sizeof__', '__str__', '__subclasshook__', 'count', 'index']\n",
      "1\n",
      "<class 'tuple'>\n",
      "True\n",
      "['__class__', '__class_getitem__', '__contains__', '__delattr__', '__delitem__', '__dir__', '__doc__', '__eq__', '__format__', '__ge__', '__getattribute__', '__getitem__', '__gt__', '__hash__', '__init__', '__init_subclass__', '__ior__', '__iter__', '__le__', '__len__', '__lt__', '__ne__', '__new__', '__or__', '__reduce__', '__reduce_ex__', '__repr__', '__reversed__', '__ror__', '__setattr__', '__setitem__', '__sizeof__', '__str__', '__subclasshook__', 'clear', 'copy', 'fromkeys', 'get', 'items', 'keys', 'pop', 'popitem', 'setdefault', 'update', 'values']\n",
      "dict_keys(['Country', 'Age', 'Location'])\n",
      "<class 'dict'>\n",
      "True\n",
      "['__and__', '__class__', '__class_getitem__', '__contains__', '__delattr__', '__dir__', '__doc__', '__eq__', '__format__', '__ge__', '__getattribute__', '__gt__', '__hash__', '__iand__', '__init__', '__init_subclass__', '__ior__', '__isub__', '__iter__', '__ixor__', '__le__', '__len__', '__lt__', '__ne__', '__new__', '__or__', '__rand__', '__reduce__', '__reduce_ex__', '__repr__', '__ror__', '__rsub__', '__rxor__', '__setattr__', '__sizeof__', '__str__', '__sub__', '__subclasshook__', '__xor__', 'add', 'clear', 'copy', 'difference', 'difference_update', 'discard', 'intersection', 'intersection_update', 'isdisjoint', 'issubset', 'issuperset', 'pop', 'remove', 'symmetric_difference', 'symmetric_difference_update', 'union', 'update']\n",
      "None\n",
      "<class 'set'>\n",
      "True\n"
     ]
    }
   ],
   "source": [
    "#Create objects of different data types\n",
    "\n",
    "a = 10 #Integers\n",
    "b = 15.321 #Float\n",
    "c = \"Hello Integrify\" #String\n",
    "d = [2,6,8] #List\n",
    "e = (4,6,8) #Tupple\n",
    "f = {\"Country\": \"Bangladesh\", \"Age\": 51, \"Location\": \"Asia\"} #Dictionary\n",
    "g = {\"Bangladesh\", 51, \"Asia\"} #Set\n",
    "\n",
    "\n",
    "#Exploring Dunder methods/Magic Methods and other methods attributes\n",
    "\n",
    "print(dir(a)) #Integers\n",
    "print(a.__add__(5)) #add using __add__() methods\n",
    "print(type(a)) #check data type using type() methods\n",
    "print(isinstance(a, int)) #check if obeject is an instance of class using isinstance() method\n",
    "\n",
    "print(dir(b)) #float\n",
    "print(b.__add__(5)) #add using __add__() methods\n",
    "print(type(b)) #check data type using type() methods\n",
    "print(isinstance(b, float)) #check if obeject is an instance of class using isinstance() method\n",
    "\n",
    "print(dir(c)) #string\n",
    "print(c.upper()) #add using upper() methods\n",
    "print(type(c)) #check data type using type() methods\n",
    "print(isinstance(c, str)) #check if obeject is an instance of class using isinstance() method\n",
    "\n",
    "print(dir(d)) #list\n",
    "print(d.append(4)) #add using append() methods\n",
    "print(type(d)) #check data type using type() methods\n",
    "print(isinstance(d, list)) #check if obeject is an instance of class using isinstance() method\n",
    "\n",
    "print(dir(e)) #tuple\n",
    "print(e.count(8)) #add using count() methods\n",
    "print(type(e)) #check data type using type() methods\n",
    "print(isinstance(e, tuple)) #check if obeject is an instance of class using isinstance() method\n",
    "\n",
    "print(dir(f)) #dictionary\n",
    "print(f.keys()) #add using key() methods\n",
    "print(type(f)) #check data type using type() methods\n",
    "print(isinstance(f, dict)) #check if obeject is an instance of class using isinstance() method\n",
    "\n",
    "print(dir(g)) #set\n",
    "print(g.add('1971')) #add using __add__() methods\n",
    "print(type(g)) #check data type using type() methods\n",
    "print(isinstance(g, set)) #check if obeject is an instance of class using isinstance() method\n"
   ]
  },
  {
   "cell_type": "code",
   "execution_count": 38,
   "id": "343f7d8f",
   "metadata": {},
   "outputs": [
    {
     "name": "stdout",
     "output_type": "stream",
     "text": [
      "I love python\n",
      "I love python\n",
      "I lovepythonversion 3.1\n",
      "I lovepythonversion 3.00 10\n",
      "I love python version 3.10\n",
      "I love python version 3.18\n",
      "I love  python version 3.10\n",
      "I love python version  3.10\n",
      "I love python version  3.10\n",
      "I Love python version 3.10\n",
      "I love python\n"
     ]
    }
   ],
   "source": [
    "print(\"I love\",\"python\" )\n",
    "print(\"I love\" + \" python\")\n",
    "print(\"I love\"+\"python\" + \"version\" ,3.10)\n",
    "print(\"I love\"+ \"python\" + \"version %.2f\"%3,10)\n",
    "print(\"I love %s version %.2f\"% ( \"python\",3.10))\n",
    "# Using format positional argument\n",
    "print(\"I love {} version {}\".format( \"python\", 3.18))\n",
    "print(\"I love {} version {}\". format(\" python\" , \"3.10\" ))\n",
    "# Using format keyword argument\n",
    "print(\"I love {pl} version {version: .2f}\".format(pl=\"python\" , version=3.10))\n",
    "#Using f-string literal\n",
    "info={\"pl\": \"python\", \"version\":3.10}\n",
    "print(f\"I love {info.get('pl')} version {info.get('version' ) : .2f}\")\n",
    "# Can be done with uppercase f Literal and single quote but double quote while accessing dicttonary value\n",
    "print(F'I Love {info[\"pl\"]} version {info[\"version\"]:.2f}' )\n",
    "#f-string conditional\n",
    "batch= 'ML'\n",
    "print(f'I love {\"javascript\" if batch==\"FS\" else \"python\"}')"
   ]
  },
  {
   "cell_type": "code",
   "execution_count": 92,
   "id": "87f6ccfe",
   "metadata": {},
   "outputs": [
    {
     "name": "stdout",
     "output_type": "stream",
     "text": [
      "1\n",
      "['Sweden', 'Denmark', 'Netherlands', 'Germany', 'Norway', 'Iceland']\n",
      "['Finland', 'Sweden', 'Denmark', 'Netherlands', 'Germany', 'Norway']\n",
      "['Finland', 'Sweden', 'Denmark', 'Netherlands', 'Germany', 'Norway']\n",
      "Iceland\n",
      "['Germany', 'Norway', 'Iceland']\n",
      "['Sweden', 'Netherlands', 'Norway']\n",
      "['Finland', 'Iceland']\n",
      "Finland Iceland\n",
      "Finland Iceland\n",
      "['Netherlands', 'Germany', 'Norway']\n",
      "['Iceland', 'Norway', 'Germany', 'Netherlands', 'Denmark', 'Sweden', 'Finland']\n",
      "['Iceland', 'Germany', 'Denmark', 'Finland']\n",
      "['Sweden', 'Netherlands', 'Norway']\n",
      "[]\n",
      "['Germany', 'Netherlands', 'Denmark']\n",
      "0 --- Finland\n",
      "1 --- Sweden\n",
      "2 --- Denmark\n",
      "3 --- Netherlands\n",
      "4 --- Germany\n",
      "5 --- Norway\n",
      "6 --- Iceland\n"
     ]
    }
   ],
   "source": [
    "#Create a list of countries\n",
    "\n",
    "countries = ['Finland', 'Sweden', 'Denmark', 'Netherlands', 'Germany', 'Norway', 'Iceland']\n",
    "\n",
    "\n",
    "print(countries.index('Sweden'))#Find the Index of Sweden\n",
    "print(countries[1:])#Find all the Items except the first one \n",
    "print(countries[:-1])#Find all the Items except the last one \n",
    "print(countries[0:6])#Find all the Items except the last one \n",
    "print(countries[-1])#Find the last Item using negative index\n",
    "print(countries[-3:])#Find the last 3 Items using negative index\n",
    "print(countries[1::2])#Find all the items with odd indices\n",
    "print(countries[0::6])#Find the first and last Items of the list\n",
    "print(countries[0], countries[6])#Find the first and last Items of the list\n",
    "print(countries[0], countries[-1])#Find the first and last Items of the list\n",
    "print(countries[-4:-1])#Find ['Netherlands', 'Germany', 'Norway'] using Negative indexing\n",
    "print(countries[::-1])#Reverse the list\n",
    "print(countries[::-2])#what is the output of countries[::-2]\n",
    "print(countries[1:100:2])#what is the output of countries[1:100:2]\n",
    "print(countries[len(countries)-1:0:2]) #what is the output of countries[len(countries)-1:0:2]\n",
    "print(countries[-3:-6:-1])#Output ['Germany', 'Netherlands', 'Denmark']\n",
    "\n",
    "for index, name in enumerate(countries): #Use enumerate method to get index and values in the list\n",
    "    print(index,'---', name)\n",
    "\n",
    "#xx = countries.reverse()\n",
    "#print(countries)\n",
    "\n"
   ]
  },
  {
   "cell_type": "code",
   "execution_count": 96,
   "id": "59a2c941",
   "metadata": {},
   "outputs": [
    {
     "name": "stdout",
     "output_type": "stream",
     "text": [
      "{'a': 1, 'b': 2, 'c': 3, 'd': 4}\n"
     ]
    }
   ],
   "source": [
    "#Given two lists of same lengths, create a dictionary using a list as keys and another list as values \n",
    "#zip method\n",
    "keys = ['a','b','c','d']\n",
    "values = [1,2,3,4]\n",
    "\n",
    "dictionary = dict(zip(keys, values))\n",
    "print(dictionary)"
   ]
  },
  {
   "cell_type": "code",
   "execution_count": 105,
   "id": "d8825d95",
   "metadata": {},
   "outputs": [
    {
     "name": "stdout",
     "output_type": "stream",
     "text": [
      "{'a': 1, 'b': 2, 'c': 3, 'd': 4}\n"
     ]
    }
   ],
   "source": [
    "#Create two dictionaries, merge them into one\n",
    "#update method\n",
    "dict1 = {'a': 1, 'b': 2}\n",
    "dict2 = {'c': 3, 'd': 4}\n",
    "\n",
    "dict1.update(dict2)   #it will add with first dictionary(dict1)\n",
    "\n",
    "print(dict1)"
   ]
  },
  {
   "cell_type": "code",
   "execution_count": 106,
   "id": "46ad7d83",
   "metadata": {},
   "outputs": [
    {
     "name": "stdout",
     "output_type": "stream",
     "text": [
      "{'a': 1, 'b': 2, 'c': 3, 'd': 4}\n"
     ]
    }
   ],
   "source": [
    "#normal method to add two dictionary\n",
    "dict1 = {'a': 1, 'b': 2}\n",
    "dict2 = {'c': 3, 'd': 4}\n",
    "dict3 = {**dict1, **dict2}\n",
    "print(dict3)"
   ]
  },
  {
   "cell_type": "code",
   "execution_count": 129,
   "id": "73667aca",
   "metadata": {},
   "outputs": [
    {
     "name": "stdout",
     "output_type": "stream",
     "text": [
      "{'Duy': ['Python', 'Database', 'ML'], 'Laxmi': ['Python', 'Database', 'ML'], 'Antonio': ['Python', 'Database', 'ML'], 'Maria': ['Python', 'Database', 'ML']}\n"
     ]
    }
   ],
   "source": [
    "#Given the list of students, assign them the course.\n",
    "students = ['Duy', 'Laxmi','Antonio','Maria']\n",
    "course = ['Python','Database','ML']\n",
    "students_profile = {student: course for student in students}\n",
    "print(students_profile)"
   ]
  },
  {
   "cell_type": "code",
   "execution_count": 117,
   "id": "1e05abbc",
   "metadata": {},
   "outputs": [
    {
     "name": "stdout",
     "output_type": "stream",
     "text": [
      "{'Duy': ['Python', 'Database', 'ML'], 'Laxmi': ['Python', 'Database', 'ML'], 'Antonio': ['JavaScript', 'Database', 'NodeJS'], 'Maria': ['Python', 'Database', 'ML']}\n"
     ]
    }
   ],
   "source": [
    "#Modify Antonio’s course to [\"JavaScript\",\"Database\",\"NodeJS\"]\n",
    "students_profile['Antonio'] = [\"JavaScript\",\"Database\",\"NodeJS\"]\n",
    "print(students_profile)"
   ]
  },
  {
   "cell_type": "code",
   "execution_count": 119,
   "id": "fb09910f",
   "metadata": {},
   "outputs": [
    {
     "name": "stdout",
     "output_type": "stream",
     "text": [
      "{'Duy': ['Python', 'Database', 'ML'], 'Laxmi': ['Python', 'Database', 'ML'], 'Antonio': ['JavaScript', 'Database', 'NodeJS', 'ReactJs'], 'Maria': ['Python', 'Database', 'ML']}\n"
     ]
    }
   ],
   "source": [
    "#Add “ReactJs” to Anonio’s course\n",
    "students_profile['Antonio'].append('ReactJs')\n",
    "print(students_profile)"
   ]
  },
  {
   "cell_type": "code",
   "execution_count": 121,
   "id": "5a8fa113",
   "metadata": {},
   "outputs": [
    {
     "name": "stdout",
     "output_type": "stream",
     "text": [
      "{'Duy': ['Python', 'Database', 'ML'], 'Laxmi': ['Python', 'Database', 'ML'], 'Antonio': ['JavaScript', 'Database', 'NodeJS', 'Vuejs'], 'Maria': ['Python', 'Database', 'ML']}\n"
     ]
    }
   ],
   "source": [
    "#Replace Antonio’s “ReactJs” to “Vuejs”\n",
    "students_profile['Antonio'][3] = 'Vuejs'\n",
    "print(students_profile)\n"
   ]
  },
  {
   "cell_type": "code",
   "execution_count": 131,
   "id": "b82329b4",
   "metadata": {},
   "outputs": [
    {
     "name": "stdout",
     "output_type": "stream",
     "text": [
      "{'Laxmi': ['Python', 'Database', 'ML'], 'Antonio': ['Python', 'Database', 'ML']}\n"
     ]
    }
   ],
   "source": [
    "#Remove an item from dictionary\n",
    "del students_profile['Maria']\n",
    "print(students_profile)\n"
   ]
  },
  {
   "cell_type": "code",
   "execution_count": 130,
   "id": "c6e6e41c",
   "metadata": {},
   "outputs": [
    {
     "name": "stdout",
     "output_type": "stream",
     "text": [
      "{'Laxmi': ['Python', 'Database', 'ML'], 'Antonio': ['Python', 'Database', 'ML'], 'Maria': ['Python', 'Database', 'ML']}\n"
     ]
    }
   ],
   "source": [
    "#removing an item from the dictionary using pop method \n",
    "students_profile.pop('Duy')  #pop just deleted 'Duy' \n",
    "print(students_profile)\n"
   ]
  },
  {
   "cell_type": "code",
   "execution_count": 124,
   "id": "cfcf98ba",
   "metadata": {},
   "outputs": [
    {
     "name": "stdout",
     "output_type": "stream",
     "text": [
      "{'Laxmi': ['Python', 'Database', 'ML']}\n"
     ]
    }
   ],
   "source": [
    "#removing the last item from the dictionary using the popitem method\n",
    "students_profile.popitem()  #deleted last item\n",
    "print(students_profile)\n"
   ]
  },
  {
   "cell_type": "code",
   "execution_count": null,
   "id": "56d68ccd",
   "metadata": {},
   "outputs": [],
   "source": []
  }
 ],
 "metadata": {
  "kernelspec": {
   "display_name": "Python 3 (ipykernel)",
   "language": "python",
   "name": "python3"
  },
  "language_info": {
   "codemirror_mode": {
    "name": "ipython",
    "version": 3
   },
   "file_extension": ".py",
   "mimetype": "text/x-python",
   "name": "python",
   "nbconvert_exporter": "python",
   "pygments_lexer": "ipython3",
   "version": "3.9.12"
  }
 },
 "nbformat": 4,
 "nbformat_minor": 5
}
