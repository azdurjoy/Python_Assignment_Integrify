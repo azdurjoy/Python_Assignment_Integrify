{
 "cells": [
  {
   "cell_type": "code",
   "execution_count": 93,
   "id": "215b98af",
   "metadata": {},
   "outputs": [
    {
     "name": "stdout",
     "output_type": "stream",
     "text": [
      "<class 'int'> <class 'str'>\n",
      "<class 'type'>\n",
      "<class 'type'>\n",
      "<class 'type'>\n",
      "<class 'type'>\n",
      "<class 'type'>\n",
      "<class 'builtin_function_or_method'>\n",
      "<class 'function'>\n",
      "<class 'function'>\n"
     ]
    }
   ],
   "source": [
    "a = 5\n",
    "b = 'some strings'\n",
    "print(type(a), type(b))\n",
    "\n",
    "def someFunction():\n",
    "  return\n",
    "\n",
    "def someClass():\n",
    "  return\n",
    "\n",
    "somelist = [int, str, tuple, dict, list, print, someFunction, someClass]\n",
    "for item in somelist:\n",
    "  print(type(item))"
   ]
  },
  {
   "cell_type": "code",
   "execution_count": 103,
   "id": "5a1c5d28",
   "metadata": {},
   "outputs": [
    {
     "name": "stdout",
     "output_type": "stream",
     "text": [
      "\n",
      "<class 'int'>\n",
      "<class 'str'>\n",
      "<class 'tuple'>\n",
      "<class 'dict'>\n",
      "<class 'list'>\n",
      "<class 'NoneType'>\n",
      "<class 'NoneType'>\n",
      "<class '__main__.MyClass'>\n"
     ]
    }
   ],
   "source": [
    "#lets create an object of each in the list:\n",
    "def funct():\n",
    "    return\n",
    "\n",
    "class MyClass:\n",
    "    pass\n",
    "\n",
    "anotherlist = [int(), str(), tuple(), dict(), list(), print(), funct(), MyClass()]\n",
    "for item in anotherlist:\n",
    "  print(type(item))"
   ]
  },
  {
   "cell_type": "markdown",
   "id": "5cca340d",
   "metadata": {},
   "source": [
    "Create two classes Pet and Dog 1. Requirements for Pet class\n",
    "Three class attributes pet_population , pet_instance and current_year\n",
    "Init constructor __init__(self,name,category,age), name is name of pet,category could be dog,cat,bird etc. and age is age of pet.\n",
    "An instance method hellofrompet that prints hello from petname\n",
    "Create a class method timepassedby which takes years as argumentshould automatically increase the age of all the pet object as soon as the method is applied\n",
    "pet_population should show the number of pets created and pet_instance is the list of pet object 1. Requirements for Dog class 1. Dog class should inherit Pet class attributes and methods. Apart from that the init constructor takes addition \"breed\" argument 2. Define the instance method barks which displays the breed does woof woof."
   ]
  },
  {
   "cell_type": "code",
   "execution_count": null,
   "id": "564e4d4a",
   "metadata": {},
   "outputs": [],
   "source": [
    "import datetime\n",
    "class Pet:\n",
    "    \n",
    "    # Class attributes\n",
    "    pet_population = 0\n",
    "    pet_instance = []\n",
    "    current_year = datetime.datetime.now()\n",
    "    # Constructor\n",
    "    def __init__(self, name , category, age):\n",
    "        self.name = name\n",
    "        self.category = category\n",
    "        self.age = age \n",
    "        Pet.pet_population +=1\n",
    "        Pet.pet_instance.append(self)\n",
    "        \n",
    "     # Instance method   \n",
    "    def hellofrompet(self):\n",
    "        print(f\"Hello from {self.name}\")\n",
    "        \n",
    "      # Class method  \n",
    "    @classmethod\n",
    "    def timepassedby(cls, year):\n",
    "        for Pet in cls.pet_instance:\n",
    "            Pet.age += year\n",
    "            \n",
    "    "
   ]
  },
  {
   "cell_type": "code",
   "execution_count": 91,
   "id": "1be212c8",
   "metadata": {},
   "outputs": [],
   "source": [
    "class Dog(Pet):\n",
    "    \n",
    "    # Inherits Pet class attributes and methods\n",
    "    # Constructor\n",
    "    def __init__(self, name, category, age, breed):\n",
    "        super().__init__(name, category, age)\n",
    "        self.breed = breed\n",
    "        \n",
    "     # Instance method   \n",
    "    def barks(self):\n",
    "        print(f\"Woof Woof!!! I'm a {self.breed}.\")\n",
    "    "
   ]
  },
  {
   "cell_type": "code",
   "execution_count": 92,
   "id": "9946bac9",
   "metadata": {},
   "outputs": [
    {
     "name": "stdout",
     "output_type": "stream",
     "text": [
      "4\n",
      "4\n",
      "Micky\n",
      "Saphie\n",
      "Micky\n",
      "Saphie\n",
      "6\n",
      "7\n",
      "Throw an error\n",
      "Woof Woof!!! I'm a German Shepherd.\n"
     ]
    }
   ],
   "source": [
    "#create the pet Instance \n",
    "instance1 = Pet('Micky', 'Cat', 1)\n",
    "\n",
    "# create Dog instance\n",
    "instance2 = Dog('Saphie', 'Dog', 2, 'German Shepherd')\n",
    "\n",
    "print(Pet.pet_population)\n",
    "print(Dog.pet_population)\n",
    "\n",
    "# running Pet.pet_population and Dog.pet_population should return 2\n",
    "for item in Pet.pet_instance:\n",
    "    print(item.name)\n",
    "\n",
    "# Pet.timepassedby(5) should increase every pet ages by 5 years.\n",
    "Pet.timepassedby(5)\n",
    "print(instance1.age) # should result to 6\n",
    "print(instance2.age)# should result to 7\n",
    "\n",
    "\n",
    "try:\n",
    "    instance1.barks() # should throw an error\n",
    "except:\n",
    "    print('Throw an error')\n",
    "instance2.barks()"
   ]
  }
 ],
 "metadata": {
  "kernelspec": {
   "display_name": "Python 3 (ipykernel)",
   "language": "python",
   "name": "python3"
  },
  "language_info": {
   "codemirror_mode": {
    "name": "ipython",
    "version": 3
   },
   "file_extension": ".py",
   "mimetype": "text/x-python",
   "name": "python",
   "nbconvert_exporter": "python",
   "pygments_lexer": "ipython3",
   "version": "3.9.12"
  }
 },
 "nbformat": 4,
 "nbformat_minor": 5
}
