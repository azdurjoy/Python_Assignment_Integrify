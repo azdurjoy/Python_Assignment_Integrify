{
  "nbformat": 4,
  "nbformat_minor": 0,
  "metadata": {
    "colab": {
      "provenance": []
    },
    "kernelspec": {
      "name": "python3",
      "display_name": "Python 3"
    },
    "language_info": {
      "name": "python"
    }
  },
  "cells": [
    {
      "cell_type": "code",
      "execution_count": null,
      "metadata": {
        "colab": {
          "base_uri": "https://localhost:8080/"
        },
        "id": "3zyL2DzGrDv4",
        "outputId": "9f2e3bae-e997-4ed2-a2fd-f3337d58333b"
      },
      "outputs": [
        {
          "output_type": "stream",
          "name": "stdout",
          "text": [
            "[1, 4, 9, 16, 25, 36, 49, 64, 81, 100]\n",
            "[2, 4, 6, 8, 10]\n",
            "3840\n"
          ]
        }
      ],
      "source": [
        "from functools import reduce \n",
        "\n",
        "def square(x):\n",
        "  return x**2 #rerurn the square of the number\n",
        "\n",
        "def product(x,y):\n",
        "  return x * y  #return the multiplication of two numbers\n",
        "\n",
        "if __name__ == '__main__' :\n",
        "  numbers = [1,2,3,4,5,6,7,8,9,10]. ## Define a list of numbers\n",
        "\n",
        "squared = list(map(square, numbers)) ## Use map() to square each element of the list\n",
        "print(squared) #output: [1, 4, 9, 16, 25, 36, 49, 64, 81, 100]\n",
        "\n",
        "\n",
        "even_number = list(filter(lambda x: x%2==0, numbers)) ## Use filter() to remove all odd numbers from the list\n",
        "print(even_number) #output: [2, 4, 6, 8, 10]\n",
        "\n",
        "product_even_numbers = reduce(product, even_number) ## Use reduce() to find the product of all even numbers in the list\n",
        "print(product_even_numbers) #output: 3840\n",
        "\n",
        "\n",
        "\n",
        "\n"
      ]
    },
    {
      "cell_type": "code",
      "source": [
        "#Create a list apply iter method to it and run next method\n",
        "my_list = [1, 2, 3, 4, 5]\n",
        "my_iterator = iter(my_list)\n",
        "\n",
        "while True:\n",
        "    try:\n",
        "        element = next(my_iterator)\n",
        "        print(element)\n",
        "    except StopIteration:\n",
        "        break\n",
        "\n",
        "'''\n",
        "1\n",
        "2\n",
        "3\n",
        "4\n",
        "5\n",
        "'''"
      ],
      "metadata": {
        "id": "b6wmTVMkEOqq"
      },
      "execution_count": null,
      "outputs": []
    },
    {
      "cell_type": "code",
      "source": [
        "#count\n",
        "import itertools\n",
        "\n",
        "for i in itertools.count():\n",
        "    print(i)\n",
        "    if i > 3:\n",
        "        break\n",
        "'''\n",
        "0\n",
        "1\n",
        "2\n",
        "3\n",
        "4'''"
      ],
      "metadata": {
        "colab": {
          "base_uri": "https://localhost:8080/"
        },
        "id": "5MlOfmtu0e0l",
        "outputId": "6408be1f-71a8-41ba-c188-eaafbb708a51"
      },
      "execution_count": null,
      "outputs": [
        {
          "output_type": "stream",
          "name": "stdout",
          "text": [
            "0\n",
            "1\n",
            "2\n",
            "3\n",
            "4\n"
          ]
        }
      ]
    },
    {
      "cell_type": "code",
      "source": [
        "#cycle \n",
        "import numpy as np\n",
        "\n",
        "list1 = np.arange(3)\n",
        "\n",
        "def sum_value(n):\n",
        "\n",
        "  for i in itertools.cycle(list1):\n",
        "      print(i)\n",
        "      n += i\n",
        "      if n > 10:\n",
        "          break\n",
        "\n",
        "sum_value(3)\n",
        "'''\n",
        "0\n",
        "1\n",
        "2\n",
        "0\n",
        "1\n",
        "2\n",
        "0\n",
        "1\n",
        "2'''"
      ],
      "metadata": {
        "colab": {
          "base_uri": "https://localhost:8080/"
        },
        "id": "c-yQdcgRyXzN",
        "outputId": "b0622f30-5255-44ae-8e9d-549e182ec774"
      },
      "execution_count": null,
      "outputs": [
        {
          "output_type": "stream",
          "name": "stdout",
          "text": [
            "0\n",
            "1\n",
            "2\n",
            "0\n",
            "1\n",
            "2\n",
            "0\n",
            "1\n",
            "2\n"
          ]
        }
      ]
    },
    {
      "cell_type": "code",
      "source": [
        "#repeat\n",
        "\n",
        "import itertools\n",
        "def sum_value(n):\n",
        "\n",
        "  for i in itertools.repeat(10):\n",
        "      print(i)\n",
        "      n += i   #Create an infinite iterator using repeat method\n",
        "      if n > 40:\n",
        "       break\n",
        "\n",
        "sum_value(10)\n",
        "\n",
        "'''\n",
        "10\n",
        "10\n",
        "10\n",
        "10'''"
      ],
      "metadata": {
        "colab": {
          "base_uri": "https://localhost:8080/"
        },
        "id": "M3QC4QnFwOyc",
        "outputId": "e065ae5f-284a-419a-d826-511e3c77a845"
      },
      "execution_count": null,
      "outputs": [
        {
          "output_type": "stream",
          "name": "stdout",
          "text": [
            "10\n",
            "10\n",
            "10\n",
            "10\n"
          ]
        }
      ]
    },
    {
      "cell_type": "code",
      "source": [
        "import itertools\n",
        "\n",
        "numbers = [1, 2, 3, 4, 5]\n",
        "cumulative_sum = itertools.accumulate(numbers)\n",
        "\n",
        "print(list(cumulative_sum)) \n",
        "\n",
        "'''[1, 3, 6, 10, 15]'''\n"
      ],
      "metadata": {
        "colab": {
          "base_uri": "https://localhost:8080/",
          "height": 53
        },
        "id": "j-3RJw410wiU",
        "outputId": "a961d67b-a143-4eea-c70e-ed3bc4c283bf"
      },
      "execution_count": null,
      "outputs": [
        {
          "output_type": "stream",
          "name": "stdout",
          "text": [
            "[1, 3, 6, 10, 15]\n"
          ]
        },
        {
          "output_type": "execute_result",
          "data": {
            "text/plain": [
              "'[1, 3, 6, 10, 15]'"
            ],
            "application/vnd.google.colaboratory.intrinsic+json": {
              "type": "string"
            }
          },
          "metadata": {},
          "execution_count": 54
        }
      ]
    },
    {
      "cell_type": "code",
      "source": [
        "import itertools\n",
        "def chain(iterables):\n",
        "  for it in iterables:\n",
        "    for element in it:\n",
        "      yield element\n",
        "\n",
        "chain('ABC')\n"
      ],
      "metadata": {
        "colab": {
          "base_uri": "https://localhost:8080/"
        },
        "id": "tbkwGIkw-750",
        "outputId": "75402dee-9606-457b-b4eb-8c77afda932b"
      },
      "execution_count": null,
      "outputs": [
        {
          "output_type": "execute_result",
          "data": {
            "text/plain": [
              "<generator object chain at 0x7fe21b0f6e40>"
            ]
          },
          "metadata": {},
          "execution_count": 62
        }
      ]
    },
    {
      "cell_type": "code",
      "source": [
        "def from_iterable(x):\n",
        "  for it in x:\n",
        "    for element in it:\n",
        "      yield element\n"
      ],
      "metadata": {
        "id": "0sLoL1gBAEjG"
      },
      "execution_count": null,
      "outputs": []
    },
    {
      "cell_type": "code",
      "source": [
        "def compress(data, selectors):\n",
        "    # compress('ABCDEF', [1,0,1,0,1,1]) --> A C E F\n",
        "    return (d for d, s in zip(data, selectors) if s)\n"
      ],
      "metadata": {
        "colab": {
          "base_uri": "https://localhost:8080/"
        },
        "id": "puAPb9OnCYvj",
        "outputId": "803f5dcd-a42c-46c0-da7e-8e9cfd0bafd7"
      },
      "execution_count": null,
      "outputs": [
        {
          "output_type": "execute_result",
          "data": {
            "text/plain": [
              "<generator object compress.<locals>.<genexpr> at 0x7fe21b0f6f20>"
            ]
          },
          "metadata": {},
          "execution_count": 66
        }
      ]
    },
    {
      "cell_type": "code",
      "source": [
        "def dropwhile(predictate, iterable):\n",
        "  iterable = iter(iterable)\n",
        "  for x in iterable:\n",
        "    if not predictate(x):\n",
        "      yield x\n",
        "      break\n",
        "  for x in iterable:\n",
        "    yield x\n",
        "\n",
        "dropwhile(lambda x: x<5, [1,4,6,4,1])"
      ],
      "metadata": {
        "colab": {
          "base_uri": "https://localhost:8080/"
        },
        "id": "LvNWSZSUDZ6q",
        "outputId": "a0bf5750-654b-46e0-cac8-e9e5c75f0587"
      },
      "execution_count": null,
      "outputs": [
        {
          "output_type": "execute_result",
          "data": {
            "text/plain": [
              "<generator object dropwhile at 0x7fe21b0f69e0>"
            ]
          },
          "metadata": {},
          "execution_count": 67
        }
      ]
    },
    {
      "cell_type": "code",
      "source": [
        "def filterfalse(predicate, iterable):\n",
        "  if predicate is None:\n",
        "    predicate = bool\n",
        "  for x in iterable:\n",
        "    if not predicate(x):\n",
        "      yield x"
      ],
      "metadata": {
        "id": "VqorLtYqGXN0"
      },
      "execution_count": null,
      "outputs": []
    },
    {
      "cell_type": "code",
      "source": [
        "#Write a Python program to check that a string contains only a certain set of characters (in this case a-z, A-Z and 0-9).\n",
        "\n",
        "import re\n",
        "#def is_alphanumeric(input_string):\n",
        "  #samp = r'^[a-zA-Z0-9]+$'\n",
        "  #return bool(re.match(samp, input_string))\n",
        "\n",
        "#print(is_alphanumeric(\"asce345sssc\")) #True\n",
        "\n",
        "\n",
        "def check_text(text):\n",
        "  sampling = '^[a-zA-Z0-9]+'\n",
        "  if re.match(sampling, text):\n",
        "    print('Found!!')\n",
        "  else:\n",
        "    print('Not Found!!')\n",
        "\n",
        "check_text('AAzzsdd333') #Found!!\n"
      ],
      "metadata": {
        "colab": {
          "base_uri": "https://localhost:8080/"
        },
        "id": "2LsQWe1CUPDz",
        "outputId": "d3faeab8-9a4b-4ecb-9fb5-0e19cb9ffc26"
      },
      "execution_count": null,
      "outputs": [
        {
          "output_type": "stream",
          "name": "stdout",
          "text": [
            "Found!!\n"
          ]
        }
      ]
    },
    {
      "cell_type": "code",
      "source": [
        "#Write a Python program that matches a string that has an a followed by zero or more b's\n",
        "import re\n",
        "\n",
        "#def text_match(text):\n",
        "  #patterns = r'^a[b]*$'\n",
        "  #return bool(re.match(patterns, text))\n",
        "#text_match('abb') #True\n",
        "\n",
        "def text_matching(texted):\n",
        "  samplee = 'a(b*)$'\n",
        "  if re.match(samplee, texted):\n",
        "    print('Found!!')\n",
        "  else:\n",
        "    print('Not Found!!')\n",
        "\n",
        "text_matching('abbb') #Found!!\n",
        "\n"
      ],
      "metadata": {
        "colab": {
          "base_uri": "https://localhost:8080/"
        },
        "id": "WTg_z8udUvew",
        "outputId": "199832c6-b24a-4ec2-be56-301a865b6676"
      },
      "execution_count": null,
      "outputs": [
        {
          "output_type": "stream",
          "name": "stdout",
          "text": [
            "Found!!\n"
          ]
        }
      ]
    },
    {
      "cell_type": "code",
      "source": [
        "#Write a Python program that matches a string that has an a followed by one or more b's.\n",
        "import re \n",
        "\n",
        "def text_match(text):\n",
        "  patterns = 'ab+?'\n",
        "  if re.match(patterns, text):\n",
        "    print('Match found')\n",
        "  else:\n",
        "    print(\"Match is not found\")\n",
        "\n",
        "text_match('abbbcc')  #Match found\n"
      ],
      "metadata": {
        "colab": {
          "base_uri": "https://localhost:8080/"
        },
        "id": "dEw2dFMLPu5S",
        "outputId": "c6e1d6a7-f623-46a1-c0be-c8457fab504b"
      },
      "execution_count": null,
      "outputs": [
        {
          "output_type": "stream",
          "name": "stdout",
          "text": [
            "Match found\n"
          ]
        }
      ]
    },
    {
      "cell_type": "code",
      "source": [
        "#Write a Python program that matches a string that has an a followed by zero or one 'b'.\n",
        "\n",
        "import re \n",
        "\n",
        "def return_text(text):\n",
        "  pattern = 'ab?'\n",
        "  if re.match(pattern, text):\n",
        "    print('Found')\n",
        "  else:\n",
        "    print('Not Found')\n",
        "\n",
        "return_text('ccccww') #Not Found"
      ],
      "metadata": {
        "colab": {
          "base_uri": "https://localhost:8080/"
        },
        "id": "w9dqJKl6Vffs",
        "outputId": "15aac7d6-ea10-4429-c680-b12f610896f6"
      },
      "execution_count": null,
      "outputs": [
        {
          "output_type": "stream",
          "name": "stdout",
          "text": [
            "Not Found\n"
          ]
        }
      ]
    },
    {
      "cell_type": "code",
      "source": [
        "#6.Write a Python program that matches a string that has an a followed by two to three 'b'.\n",
        "\n",
        "import re\n",
        "\n",
        "def check_text(samp):\n",
        "  pattern = 'ab{2,3}?'\n",
        "  if re.match(pattern, samp):\n",
        "    print('Found')\n",
        "  else:\n",
        "    print('Not Found')\n",
        "\n",
        "check_text('abddc') #Not Found\n"
      ],
      "metadata": {
        "id": "KgSy_YBkWVrh"
      },
      "execution_count": null,
      "outputs": []
    },
    {
      "cell_type": "code",
      "source": [
        "#7. Write a Python program to find sequences of lowercase letters joined by an underscore.\n",
        "\n",
        "import re \n",
        "def lowercase(text):\n",
        "  pattern = '^[a-z]+_[a-z]+$'\n",
        "  if re.match(pattern, text):\n",
        "    print('Found')\n",
        "  else:\n",
        "    print('Not FOund')\n",
        "\n",
        "lowercase('_Adndsv') #Not FOund\n",
        "  "
      ],
      "metadata": {
        "colab": {
          "base_uri": "https://localhost:8080/"
        },
        "id": "W9oZarelXGqh",
        "outputId": "93bede70-9653-4efb-e2c4-6a299d5e5ad1"
      },
      "execution_count": null,
      "outputs": [
        {
          "output_type": "stream",
          "name": "stdout",
          "text": [
            "Not FOund\n"
          ]
        }
      ]
    },
    {
      "cell_type": "code",
      "source": [
        "#8. Write a Python program to find the sequences of one upper case letter followed by lower case letters.\n",
        "\n",
        "import re \n",
        "def upper_lowercase(text):\n",
        "  pattern = '^[A-Z]+[a-z]+$'\n",
        "  if re.match(pattern, text):\n",
        "    print('Found')\n",
        "  else:\n",
        "    print('Not FOund')\n",
        "\n",
        "upper_lowercase('AAZZvbevibw') #Found\n"
      ],
      "metadata": {
        "colab": {
          "base_uri": "https://localhost:8080/"
        },
        "id": "i22CjfB5X-FG",
        "outputId": "fe5f168a-ba65-4009-fedd-28f67b0ab5e4"
      },
      "execution_count": null,
      "outputs": [
        {
          "output_type": "stream",
          "name": "stdout",
          "text": [
            "Found\n"
          ]
        }
      ]
    },
    {
      "cell_type": "code",
      "source": [
        "#9. Write a Python program that matches a string that has an 'a' followed by anything ending in 'b'.\n",
        "\n",
        "import re \n",
        "def upper_lowercase(text):\n",
        "  pattern = 'a.*?b$'\n",
        "  if re.match(pattern, text):\n",
        "    print('Found')\n",
        "  else:\n",
        "    print('Not Found')\n",
        "\n",
        "upper_lowercase('aAAZZvbevib') #Found\n"
      ],
      "metadata": {
        "colab": {
          "base_uri": "https://localhost:8080/"
        },
        "id": "chut2qOkgNrh",
        "outputId": "4e1f64e1-16d6-4c44-f061-6a70a4bd659b"
      },
      "execution_count": null,
      "outputs": [
        {
          "output_type": "stream",
          "name": "stdout",
          "text": [
            "Found\n"
          ]
        }
      ]
    },
    {
      "cell_type": "code",
      "source": [
        "#10. Write a Python program that matches a word at the beginning of a string. \n",
        "import re \n",
        "def upper_lowercase(text):\n",
        "  pattern = '^\\w+'\n",
        "  if re.match(pattern, text):\n",
        "    print('Found')\n",
        "  else:\n",
        "    print('Not Found')\n",
        "\n",
        "#upper_lowercase('my name is ARIF') #Found\n",
        "upper_lowercase(' my name is ARIF') #Not Found\n",
        "\\w+\\S*$\n"
      ],
      "metadata": {
        "colab": {
          "base_uri": "https://localhost:8080/"
        },
        "id": "F3p8faeqiza4",
        "outputId": "4d30b10e-96d3-40b4-dc66-5ef7b18da857"
      },
      "execution_count": null,
      "outputs": [
        {
          "output_type": "stream",
          "name": "stdout",
          "text": [
            "Not Found\n"
          ]
        }
      ]
    },
    {
      "cell_type": "code",
      "source": [
        "#11. Write a Python program that matches a word at the end of a string, with optional punctuation.\n",
        "import re \n",
        "def text_match(text):\n",
        "  pattern = '\\w+\\S*$'\n",
        "  if re.search(pattern, text):\n",
        "    print('Found')\n",
        "  else:\n",
        "    print('Not Found')\n",
        "\n",
        "text_match('My name is ARIF.') #Found\n",
        "#text_match(' my name is ARIF. ') #Not Found\n"
      ],
      "metadata": {
        "colab": {
          "base_uri": "https://localhost:8080/"
        },
        "id": "0IiauqnsmTF1",
        "outputId": "8e8f8418-962e-419e-b339-518b3720ffda"
      },
      "execution_count": null,
      "outputs": [
        {
          "output_type": "stream",
          "name": "stdout",
          "text": [
            "Found\n"
          ]
        }
      ]
    },
    {
      "cell_type": "code",
      "source": [
        "#12. Write a Python program that matches a word containing 'z'.\n",
        "import re \n",
        "def text_match(text):\n",
        "  pattern = 'z+'\n",
        "  if re.search(pattern, text):\n",
        "    print('Found')\n",
        "  else:\n",
        "    print('Not Found')\n",
        "\n",
        "text_match('dddddvewwec.')#Not Found\n",
        "text_match('az durjoy') #Found"
      ],
      "metadata": {
        "colab": {
          "base_uri": "https://localhost:8080/"
        },
        "id": "JQ5mJzVU25rg",
        "outputId": "e0c971b3-c75f-43af-fa77-fffc6969d500"
      },
      "execution_count": null,
      "outputs": [
        {
          "output_type": "stream",
          "name": "stdout",
          "text": [
            "Not Found\n",
            "Found\n"
          ]
        }
      ]
    },
    {
      "cell_type": "code",
      "source": [
        "#13. Write a Python program that matches a word containing 'z', not the start or end of the word.\n",
        "import re \n",
        "def text_match(text):\n",
        "  pattern = '\\Bz\\B'\n",
        "  if re.search(pattern, text):\n",
        "    print('Found')\n",
        "  else:\n",
        "    print('Not Found')\n",
        "\n",
        "#text_match('my name is az') #Not Found\n",
        "#text_match('zhen euro') #Not Found\n",
        "text_match('give me hazzle nut') #Found\n",
        "\n"
      ],
      "metadata": {
        "colab": {
          "base_uri": "https://localhost:8080/"
        },
        "id": "cjrl1Zv33gGi",
        "outputId": "e958c8d7-7d3b-47cb-8232-61e55984e488"
      },
      "execution_count": null,
      "outputs": [
        {
          "output_type": "stream",
          "name": "stdout",
          "text": [
            "Found\n"
          ]
        }
      ]
    },
    {
      "cell_type": "code",
      "source": [
        "#14. Write a Python program to match a string that contains only upper and lowercase letters, numbers, and underscores.\n",
        "import re \n",
        "def text_match(text):\n",
        "  pattern = '^[a-zA-Z0-9_]*$'\n",
        "  if re.search(pattern, text):\n",
        "    print('Found')\n",
        "  else:\n",
        "    print('Not Found')\n",
        "\n",
        "text_match('Integrify_Assignment_4') #Found\n",
        "text_match('give me hazzle nut') #Not Found\n"
      ],
      "metadata": {
        "colab": {
          "base_uri": "https://localhost:8080/"
        },
        "id": "oyRyjuMA4ade",
        "outputId": "6d923ada-b24e-452a-ad1c-c3b7c7c2075c"
      },
      "execution_count": null,
      "outputs": [
        {
          "output_type": "stream",
          "name": "stdout",
          "text": [
            "Found\n",
            "Not Found\n"
          ]
        }
      ]
    },
    {
      "cell_type": "code",
      "source": [
        "#15. Write a Python program that starts each string with a specific number.\n",
        "import re \n",
        "def text_match(text):\n",
        "  pattern = '^[a-zA-Z0-9_]*$'\n",
        "  if re.search(pattern, text):\n",
        "    print('Found')\n",
        "  else:\n",
        "    print('Not Found')\n",
        "\n",
        "text_match('Integrify_Assignment_4')\n"
      ],
      "metadata": {
        "id": "QpZahFQC5Xrt"
      },
      "execution_count": null,
      "outputs": []
    },
    {
      "cell_type": "code",
      "source": [
        "#Suppose we want to create an output list which contains only the even numbers which are present in the input list. \n",
        "# Constructing output list WITHOUT\n",
        "# Using List comprehensions\n",
        "\n",
        "\n",
        "my_list = [1,2,3,4,5,6,6,7,8,10,11,12]\n",
        "\n",
        "output = []\n",
        "for i in my_list:\n",
        "  if i %2 ==0:\n",
        "    output.append(i)\n",
        "\n",
        "print(\"Output List using for loop:\", output)\n",
        "#Output List using for loop: [2, 4, 6, 6, 8, 10, 12]\n"
      ],
      "metadata": {
        "colab": {
          "base_uri": "https://localhost:8080/"
        },
        "id": "z0tUJLVDe1kB",
        "outputId": "54480957-a178-4a5c-8566-e8c90133c67f"
      },
      "execution_count": null,
      "outputs": [
        {
          "output_type": "stream",
          "name": "stdout",
          "text": [
            "Output List using for loop: [2, 4, 6, 6, 8, 10, 12]\n"
          ]
        }
      ]
    },
    {
      "cell_type": "code",
      "source": [
        "#Suppose we want to create an output list which contains squares of all the numbers from 1 to 9. \n",
        "\n",
        "# Constructing output list using for loop\n",
        "\n",
        "square_list = []\n",
        "\n",
        "for x in range(1,10):\n",
        "  square = x**2\n",
        "  square_list.append(square)\n",
        "\n",
        "print(\"Output List using for loop:\", square_list)\n",
        "\n",
        "'''Output List using for loop: [1, 4, 9, 16, 25, 36, 49, 64, 81]\n",
        "'''"
      ],
      "metadata": {
        "colab": {
          "base_uri": "https://localhost:8080/"
        },
        "id": "JMpijG1Pfjex",
        "outputId": "84a18e7e-57f4-4813-9db0-ea8e64f22f81"
      },
      "execution_count": null,
      "outputs": [
        {
          "output_type": "stream",
          "name": "stdout",
          "text": [
            "Output List using for loop: [1, 4, 9, 16, 25, 36, 49, 64, 81]\n"
          ]
        }
      ]
    },
    {
      "cell_type": "code",
      "source": [
        "#Suppose we want to create an output dictionary which contains only the odd numbers \n",
        "#that are present in the input list as keys and their cubes as values.\n",
        "\n",
        "\n",
        "index_list = [1,2,3,4,5,6,7,8,9]\n",
        "\n",
        "out_dict = {}\n",
        "\n",
        "for x in index_list:\n",
        "  if x%2 !=0 :\n",
        "    out_dict[x] = x ** 3\n",
        "print(\"Output Dictionary using for loop:\", out_dict )\n",
        "\n",
        "'''Output Dictionary using for loop: {1: 1, 3: 27, 5: 125, 7: 343, 9: 729}\n",
        "'''"
      ],
      "metadata": {
        "colab": {
          "base_uri": "https://localhost:8080/"
        },
        "id": "hXAvaykUgTuS",
        "outputId": "3335c556-21c5-4cc8-d96a-1f4e524a8a4e"
      },
      "execution_count": null,
      "outputs": [
        {
          "output_type": "stream",
          "name": "stdout",
          "text": [
            "Output Dictionary using for loop: {1: 1, 3: 27, 5: 125, 7: 343, 9: 729}\n"
          ]
        }
      ]
    },
    {
      "cell_type": "code",
      "source": [
        "#Given two lists containing the names of states and their corresponding capitals, \n",
        "#construct a dictionary which maps the states with their respective capitals.\n",
        "capital = ['Berlin', 'Helsinki', 'Budapest']\n",
        "state = ['Germany', 'Finland', 'Hungary']\n",
        "\n",
        "output_dict = {}\n",
        "\n",
        "# Using loop for constructing output dictionary\n",
        "for (key, value) in zip(state, capital):\n",
        "\toutput_dict[key] = value\n",
        "\n",
        "print(\"Output Dictionary using for loop:\",\n",
        "\t\t\t\t\t\t\toutput_dict)\n",
        "\n",
        "'''Output Dictionary using for loop: {'Germany': 'Berlin', 'Finland': 'Helsinki', 'Hungary': 'Budapest'}\n",
        "'''"
      ],
      "metadata": {
        "colab": {
          "base_uri": "https://localhost:8080/"
        },
        "id": "fhBLhsJVha7F",
        "outputId": "e15d6f26-c018-4f41-e904-9b4fab7124cd"
      },
      "execution_count": null,
      "outputs": [
        {
          "output_type": "stream",
          "name": "stdout",
          "text": [
            "Output Dictionary using for loop: {'Germany': 'Berlin', 'Finland': 'Helsinki', 'Hungary': 'Budapest'}\n"
          ]
        }
      ]
    },
    {
      "cell_type": "code",
      "source": [
        "#Suppose we want to create an output set which contains only the even numbers that are present in the input list. \n",
        "#Note that set will discard all the duplicate values.\n",
        "\n",
        "input_list = [1,2,3,4,5,5,6,6,7,8,8,9,0]\n",
        "output_set = set()\n",
        "\n",
        "for x in input_list:\n",
        "  if x % 2 ==0:\n",
        "    output_set.add(x)\n",
        "  else:\n",
        "    pass\n",
        "print(\"Output Set using for loop:\", output_set)\n",
        "\n",
        "'''Output Set using for loop: {0, 2, 4, 6, 8}\n",
        "'''"
      ],
      "metadata": {
        "colab": {
          "base_uri": "https://localhost:8080/"
        },
        "id": "WptSx3_Xw2jC",
        "outputId": "0b249af9-3272-47f4-9d56-7bc2c70c0a36"
      },
      "execution_count": null,
      "outputs": [
        {
          "output_type": "stream",
          "name": "stdout",
          "text": [
            "Output Set using for loop: {0, 2, 4, 6, 8}\n"
          ]
        }
      ]
    },
    {
      "cell_type": "code",
      "source": [
        "#Write a multiplication table of any given number in a list using list comprehension\n",
        "\n",
        "input_val = int(input('Enter Any Number: '))\n",
        "\n",
        "multi = [input_val * i for i in range(1, 11)]\n",
        "\n",
        "print(multi)\n",
        "\n",
        "'''Enter Any Number: 4\n",
        "[4, 8, 12, 16, 20, 24, 28, 32, 36, 40]'''"
      ],
      "metadata": {
        "colab": {
          "base_uri": "https://localhost:8080/"
        },
        "id": "-nGOnGwZx1Qh",
        "outputId": "c57c68be-d839-4cda-b46c-7a1348f5b5a1"
      },
      "execution_count": null,
      "outputs": [
        {
          "output_type": "stream",
          "name": "stdout",
          "text": [
            "Enter Any Number: 4\n",
            "[4, 8, 12, 16, 20, 24, 28, 32, 36, 40]\n"
          ]
        }
      ]
    },
    {
      "cell_type": "code",
      "source": [
        "#Find all numbers from 1 to 500 that has 5 in them\n",
        "\n",
        "five = [n for n in range(1,501) if '5' in str(n)]\n",
        "print(five)\n",
        "'''[5, 15, 25, 35, 45, 50, 51, 52, 53, 54, 55, 56, 57, 58, 59, 65, 75, 85, 95, 105, 115, 125, 135, 145, 150, 151, 152, 153, 154, 155, 156, 157, 158, 159, 165, 175, 185, 195, 205, 215, 225, 235, 245, 250, 251, 252, 253, 254, 255, 256, 257, 258, 259, 265, 275, 285, 295, 305, 315, 325, 335, 345, 350, 351, 352, 353, 354, 355, 356, 357, 358, 359, 365, 375, 385, 395, 405, 415, 425, 435, 445, 450, 451, 452, 453, 454, 455, 456, 457, 458, 459, 465, 475, 485, 495, 500]\n",
        "'''"
      ],
      "metadata": {
        "colab": {
          "base_uri": "https://localhost:8080/"
        },
        "id": "6tak2lU4zbQq",
        "outputId": "abd9de1c-16b3-45b2-9551-c3465e9e8a1a"
      },
      "execution_count": null,
      "outputs": [
        {
          "output_type": "stream",
          "name": "stdout",
          "text": [
            "[5, 15, 25, 35, 45, 50, 51, 52, 53, 54, 55, 56, 57, 58, 59, 65, 75, 85, 95, 105, 115, 125, 135, 145, 150, 151, 152, 153, 154, 155, 156, 157, 158, 159, 165, 175, 185, 195, 205, 215, 225, 235, 245, 250, 251, 252, 253, 254, 255, 256, 257, 258, 259, 265, 275, 285, 295, 305, 315, 325, 335, 345, 350, 351, 352, 353, 354, 355, 356, 357, 358, 359, 365, 375, 385, 395, 405, 415, 425, 435, 445, 450, 451, 452, 453, 454, 455, 456, 457, 458, 459, 465, 475, 485, 495, 500]\n"
          ]
        }
      ]
    },
    {
      "cell_type": "code",
      "source": [
        "items = [\"apple\", True, 10, \"banana\", 20, 30, 4.0, \"grapes\", \"laptop\", \"phone\", False, 0]\n",
        "\n",
        "non_str = [item for item in items if not isinstance(item, str)]\n",
        "print(non_str)\n",
        "\n",
        "is_numeric = [isinstance(item, (int, float)) for item in items]\n",
        "print(is_numeric)\n",
        "\n",
        "'''[True, 10, 20, 30, 4.0, False, 0]\n",
        "'''\n",
        "'''[False, True, True, False, True, True, True, False, False, False, True, True]\n",
        "'''"
      ],
      "metadata": {
        "colab": {
          "base_uri": "https://localhost:8080/",
          "height": 71
        },
        "id": "IEutAzpe0JB0",
        "outputId": "7fd27621-f6bb-4a68-e212-f84903bc8083"
      },
      "execution_count": null,
      "outputs": [
        {
          "output_type": "stream",
          "name": "stdout",
          "text": [
            "[True, 10, 20, 30, 4.0, False, 0]\n",
            "[False, True, True, False, True, True, True, False, False, False, True, True]\n"
          ]
        },
        {
          "output_type": "execute_result",
          "data": {
            "text/plain": [
              "'[True, 10, 20, 30, 4.0, False, 0]\\n'"
            ],
            "application/vnd.google.colaboratory.intrinsic+json": {
              "type": "string"
            }
          },
          "metadata": {},
          "execution_count": 10
        }
      ]
    },
    {
      "cell_type": "code",
      "source": [
        "files = [\"cat1.png\", \"dog1.png\", \"cat2.png\", \"cat3.png\", \"cat4.png\", \"dog2.png\", \"cat5.png\", \"cat6.png\", \"dog3.png\"]\n",
        "\n",
        "cat_file = [file for file in files if file.startswith('cat')]\n",
        "dog_file = [file for file in files if file.startswith('dog')]\n",
        "\n",
        "\n",
        "\n",
        "print(\"Cat files:\", cat_file)\n",
        "print(\"Dog files:\", dog_file)\n",
        "\n",
        "'''Cat files: ['cat1.png', 'cat2.png', 'cat3.png', 'cat4.png', 'cat5.png', 'cat6.png']\n",
        "Dog files: ['dog1.png', 'dog2.png', 'dog3.png']'''"
      ],
      "metadata": {
        "colab": {
          "base_uri": "https://localhost:8080/"
        },
        "id": "vmqQUtgE3VDg",
        "outputId": "7e5cffff-d7f4-41b0-b569-9aeab1f88686"
      },
      "execution_count": null,
      "outputs": [
        {
          "output_type": "stream",
          "name": "stdout",
          "text": [
            "Cat files: ['cat1.png', 'cat2.png', 'cat3.png', 'cat4.png', 'cat5.png', 'cat6.png']\n",
            "Dog files: ['dog1.png', 'dog2.png', 'dog3.png']\n"
          ]
        }
      ]
    }
  ]
}