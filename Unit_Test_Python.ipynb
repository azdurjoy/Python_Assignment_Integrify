{
  "nbformat": 4,
  "nbformat_minor": 0,
  "metadata": {
    "colab": {
      "provenance": []
    },
    "kernelspec": {
      "name": "python3",
      "display_name": "Python 3"
    },
    "language_info": {
      "name": "python"
    }
  },
  "cells": [
    {
      "cell_type": "markdown",
      "source": [
        "Unit Test Python:\n",
        "\n",
        "Your task is to write unit tests for a Python function that checks whether a given number is prime or not. The function takes an integer as input and returns a boolean value indicating whether the number is prime or not.\n",
        "\n"
      ],
      "metadata": {
        "id": "CiMHh8Pr3bia"
      }
    },
    {
      "cell_type": "code",
      "execution_count": 2,
      "metadata": {
        "colab": {
          "base_uri": "https://localhost:8080/"
        },
        "id": "IfO1S2_529Aw",
        "outputId": "2e918afc-7d2d-4923-9cc7-3fb30354f64c"
      },
      "outputs": [
        {
          "output_type": "execute_result",
          "data": {
            "text/plain": [
              "True"
            ]
          },
          "metadata": {},
          "execution_count": 2
        }
      ],
      "source": [
        "def is_prime(n: int):\n",
        "  if n<=1:\n",
        "    return False\n",
        "  for i in range(2, int(n**0.5) + 1):\n",
        "    if n % 2 == 0:\n",
        "      return False\n",
        "  return True\n",
        "\n",
        "is_prime(3)"
      ]
    },
    {
      "cell_type": "markdown",
      "source": [
        "Your tests should cover various cases such as:\n",
        "\n",
        "Test for negative numbers\n",
        "\n",
        "Test for 0 and 1\n",
        "\n",
        "Test for small prime numbers (e.g., 2, 3, 5, 7)\n",
        "\n",
        "Test for small composite numbers (e.g., 4, 6, 8, 9)\n",
        "\n",
        "Test for large prime numbers (e.g., 103, 107, 109)\n",
        "\n",
        "Test for large composite numbers (e.g., 100, 200, 300)\n",
        "\n",
        "In the TestIsPrime class, we define several test methods, each testing a specific case. In each test method, we use the assert statements to check whether the output of the is_prime() function matches the expected output. If the output does not match, the test fails and the test runner reports the failure.\n",
        "\n",
        "To run the tests, we simply run the script. The test runner will discover and run all the test methods defined in the TestIsPrime class.\n",
        "\n",
        "We can also run the tests using a command-line test runner such as pytest. To do this, we need to install pytest by running pip install pytest and then run the tests using the pytest command. The test runner will discover and run all the test methods defined in the script."
      ],
      "metadata": {
        "id": "CrERZIEV-mrg"
      }
    },
    {
      "cell_type": "code",
      "source": [
        "import unittest\n",
        "import pytest\n",
        "class TestIsPrime(unittest.TestCase):\n",
        "  def test_negative_numbers(self):\n",
        "    self.assertFalse(is_prime(-1))\n",
        "\n",
        "  def test_zero(self):\n",
        "    self.assertFalse(is_prime(0))\n",
        "  def test_one(self):\n",
        "    self.assertFalse(is_prime(1))\n",
        "\n",
        "  def test_small_prime(self):\n",
        "    self.assertTrue(is_prime(2))\n",
        "    self.assertTrue(is_prime(3))\n",
        "    self.assertTrue(is_prime(5))\n",
        "\n",
        "  def test_small_composite(self):\n",
        "    self.assertFalse(is_prime(4))\n",
        "    self.assertFalse(is_prime(6))\n",
        "    self.assertFalse(is_prime(8))\n",
        "    self.assertFalse(is_prime(9))\n",
        "\n",
        "  def test_large_prime_num(self):\n",
        "    self.assertFalse(is_prime(103))\n",
        "    self.assertFalse(is_prime(107))\n",
        "    self.assertFalse(is_prime(109))\n",
        "\n",
        "  def test_large_comp_num(self):\n",
        "    self.assertFalse(is_prime(100))\n",
        "    self.assertFalse(is_prime(200))\n",
        "    self.assertFalse(is_prime(300))\n",
        "\n",
        "\n",
        "if __name__ == '__main__':\n",
        "  unittest.main\n"
      ],
      "metadata": {
        "id": "EpssSBIJ4nLV"
      },
      "execution_count": 1,
      "outputs": []
    },
    {
      "cell_type": "code",
      "source": [],
      "metadata": {
        "id": "0ruLHwjPEZno"
      },
      "execution_count": null,
      "outputs": []
    }
  ]
}